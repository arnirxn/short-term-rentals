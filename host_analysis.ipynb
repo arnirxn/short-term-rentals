{
 "cells": [
  {
   "cell_type": "code",
   "execution_count": null,
   "metadata": {
    "collapsed": true
   },
   "outputs": [],
   "source": []
  },
  {
   "cell_type": "code",
   "execution_count": null,
   "outputs": [],
   "source": [
    "for metric_col in [\n",
    "        \"review_scores_rating\",\n",
    "        \"review_scores_accuracy\",\n",
    "        \"review_scores_cleanliness\",\n",
    "        \"review_scores_checkin\",\n",
    "        \"review_scores_communication\",\n",
    "        \"review_scores_location\",\n",
    "        \"review_scores_value\",\n",
    "    ]:\n"
   ],
   "metadata": {
    "collapsed": false,
    "pycharm": {
     "name": "#%%\n"
    }
   }
  }
 ],
 "metadata": {
  "kernelspec": {
   "display_name": "Python 3",
   "language": "python",
   "name": "python3"
  },
  "language_info": {
   "codemirror_mode": {
    "name": "ipython",
    "version": 2
   },
   "file_extension": ".py",
   "mimetype": "text/x-python",
   "name": "python",
   "nbconvert_exporter": "python",
   "pygments_lexer": "ipython2",
   "version": "2.7.6"
  }
 },
 "nbformat": 4,
 "nbformat_minor": 0
}